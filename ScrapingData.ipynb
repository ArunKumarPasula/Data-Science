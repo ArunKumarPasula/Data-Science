{
 "cells": [
  {
   "cell_type": "code",
   "execution_count": 1,
   "metadata": {
    "collapsed": true
   },
   "outputs": [],
   "source": [
    "import requests\n",
    "#requests module to request for a web page\n",
    "from bs4 import BeautifulSoup"
   ]
  },
  {
   "cell_type": "code",
   "execution_count": 24,
   "metadata": {
    "collapsed": false
   },
   "outputs": [
    {
     "data": {
      "text/plain": [
       "'utf-8'"
      ]
     },
     "execution_count": 24,
     "metadata": {},
     "output_type": "execute_result"
    }
   ],
   "source": [
    "response = requests.get(\"http://dataquestio.github.io/web-scraping-pages/2014_super_bowl.html\")\n",
    "# here reponse is an response object returned.We can get all the information we need from this object\n",
    "response.encoding\n",
    "# here requests takes care of decoding the response(page) automatically.In case if we need to change the encoding type,we can change it using response.encoding \n",
    "#eg., reponse.encoding = 'utf-8'  (changes the encoding to 'utf-8')\\\n",
    "#for decoding json objects , we use response.json()\n"
   ]
  },
  {
   "cell_type": "code",
   "execution_count": 25,
   "metadata": {
    "collapsed": false
   },
   "outputs": [
    {
     "data": {
      "text/plain": [
       "b'<!DOCTYPE html>\\n<html>\\n    <head lang=\"en\">\\n        <meta charset=\"UTF-8\">\\n        <title>2014 Superbowl Team Stats</title>\\n    </head>\\n    <body>\\n\\n        <table class=\"stats_table nav_table\" id=\"team_stats\">\\n            <tbody>\\n                <tr id=\"teams\">\\n                    <th></th>\\n                    <th>SEA</th>\\n                    <th>NWE</th>\\n                </tr>\\n                <tr id=\"first-downs\">\\n                    <td>First downs</td>\\n                    <td>20</td>\\n                    <td>25</td>\\n                </tr>\\n                <tr id=\"total-yards\">\\n                    <td>Total yards</td>\\n                    <td>396</td>\\n                    <td>377</td>\\n                </tr>\\n                <tr id=\"turnovers\">\\n                    <td>Turnovers</td>\\n                    <td>1</td>\\n                    <td>2</td>\\n                </tr>\\n                <tr id=\"penalties\">\\n                    <td>Penalties-yards</td>\\n                    <td>7-70</td>\\n                    <td>5-36</td>\\n                </tr>\\n                <tr id=\"total-plays\">\\n                    <td>Total Plays</td>\\n                    <td>53</td>\\n                    <td>72</td>\\n                </tr>\\n                <tr id=\"time-of-possession\">\\n                    <td>Time of Possession</td>\\n                    <td>26:14</td>\\n                    <td>33:46</td>\\n                </tr>\\n            </tbody>\\n        </table>\\n\\n    </body>\\n</html>'"
      ]
     },
     "execution_count": 25,
     "metadata": {},
     "output_type": "execute_result"
    }
   ],
   "source": [
    "#get the entire html page (page contents)\n",
    "content = response.content\n",
    "content"
   ]
  },
  {
   "cell_type": "code",
   "execution_count": 58,
   "metadata": {
    "collapsed": false
   },
   "outputs": [],
   "source": [
    "#parsing the obtained html page using beautifulsoup, a toolkit for dissecting a document and extracting what you need\n",
    "parser = BeautifulSoup(content, 'html.parser')\n",
    "#parser.find_all('tr id ='turnovers'')"
   ]
  },
  {
   "cell_type": "code",
   "execution_count": 59,
   "metadata": {
    "collapsed": false
   },
   "outputs": [
    {
     "name": "stdout",
     "output_type": "stream",
     "text": [
      "1\n"
     ]
    }
   ],
   "source": [
    "# Find the number of turnovers committed by the Seahawks.\n",
    "turnovers = parser.select(\"#turnovers\")[0]\n",
    "seahawks_turnovers = turnovers.select(\"td\")[1]\n",
    "seahawks_turnovers_count = seahawks_turnovers.text\n",
    "print(seahawks_turnovers_count)"
   ]
  },
  {
   "cell_type": "code",
   "execution_count": 61,
   "metadata": {
    "collapsed": false
   },
   "outputs": [
    {
     "name": "stdout",
     "output_type": "stream",
     "text": [
      "72\n"
     ]
    }
   ],
   "source": [
    "#find total plays of patriots\n",
    "tot_plays = parser.select('#total-plays')[0]\n",
    "pat_tot_plays = tot_plays('td')[2]\n",
    "patriots_total_plays_count = pat_tot_plays.text\n",
    "print(patriots_total_plays_count)"
   ]
  },
  {
   "cell_type": "code",
   "execution_count": 62,
   "metadata": {
    "collapsed": false
   },
   "outputs": [
    {
     "name": "stdout",
     "output_type": "stream",
     "text": [
      "396\n"
     ]
    }
   ],
   "source": [
    "#find total yards count of sea hawks\n",
    "tot_yards = parser.select(\"#total-yards\")[0]\n",
    "sew_ty = tot_yards.select(\"td\")[1]\n",
    "seahawks_total_yards_count = sew_ty.text\n",
    "print(seahawks_total_yards_count)"
   ]
  },
  {
   "cell_type": "code",
   "execution_count": null,
   "metadata": {
    "collapsed": true
   },
   "outputs": [],
   "source": []
  }
 ],
 "metadata": {
  "kernelspec": {
   "display_name": "Python [conda root]",
   "language": "python",
   "name": "conda-root-py"
  },
  "language_info": {
   "codemirror_mode": {
    "name": "ipython",
    "version": 3
   },
   "file_extension": ".py",
   "mimetype": "text/x-python",
   "name": "python",
   "nbconvert_exporter": "python",
   "pygments_lexer": "ipython3",
   "version": "3.5.2"
  }
 },
 "nbformat": 4,
 "nbformat_minor": 1
}
